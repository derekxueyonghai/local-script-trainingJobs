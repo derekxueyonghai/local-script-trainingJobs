{
 "cells": [
  {
   "cell_type": "markdown",
   "metadata": {},
   "source": [
    "# Quick Start - Run local code as SageMaker training job\n"
   ]
  },
  {
   "cell_type": "markdown",
   "metadata": {},
   "source": [
    "---\n",
    "\n",
    "This notebook's CI test result for us-west-2 is as follows. CI test results in other regions can be found at the end of the notebook. \n",
    "\n",
    "![This us-west-2 badge failed to load. Check your device's internet connectivity, otherwise the service is currently unavailable](https://h75twx4l60.execute-api.us-west-2.amazonaws.com/sagemaker-nb/us-west-2/sagemaker-remote-function|quick_start|quick_start.ipynb)\n",
    "\n",
    "---"
   ]
  },
  {
   "cell_type": "markdown",
   "metadata": {},
   "source": [
    "\n",
    "We're introducing a new capability in AWS SageMaker Python SDK that allows data scientists to run their Python functions as SageMaker Jobs to take advantage of the compute power offered by SageMaker. This sample notebook is a quick introduction to this new capability with dummy Python functions.\n",
    "\n",
    "For more details about the feature, please checkout the AWS Developer Guide [here](https://docs.aws.amazon.com/sagemaker/latest/dg/train-remote-decorator.html)\n"
   ]
  },
  {
   "cell_type": "markdown",
   "metadata": {},
   "source": [
    "## Install the dependencies"
   ]
  },
  {
   "cell_type": "code",
   "execution_count": null,
   "metadata": {
    "tags": []
   },
   "outputs": [],
   "source": [
    "%pip install --upgrade pip"
   ]
  },
  {
   "cell_type": "code",
   "execution_count": null,
   "metadata": {
    "tags": []
   },
   "outputs": [],
   "source": [
    "%pip install -r ./requirements.txt"
   ]
  },
  {
   "cell_type": "code",
   "execution_count": 3,
   "metadata": {
    "tags": []
   },
   "outputs": [
    {
     "name": "stdout",
     "output_type": "stream",
     "text": [
      "/root\n"
     ]
    }
   ],
   "source": [
    "!pwd"
   ]
  },
  {
   "cell_type": "code",
   "execution_count": 4,
   "metadata": {
    "tags": []
   },
   "outputs": [
    {
     "name": "stdout",
     "output_type": "stream",
     "text": [
      "total 232\n",
      "drwx------ 9 root nogroup   6144 Jun 11 09:47 .\n",
      "drwxr-xr-x 1 root root        50 Jun 11 09:47 ..\n",
      "drwxr-xr-x 3 root root      6144 Jun 11 05:48 .aws\n",
      "drwxr-xr-x 4 root root      6144 Jun 11 05:57 .cache\n",
      "drwx------ 3 root root      6144 Jun 11 05:55 .config\n",
      "drwxr-xr-x 2 root root      6144 Jun 11 05:57 .ipynb_checkpoints\n",
      "drwxr-xr-x 5 root root      6144 Jun 11 05:57 .ipython\n",
      "drwxr-xr-x 3 root root      6144 Jun 11 05:56 .jupyter\n",
      "drwxr-xr-x 3 root root      6144 Jun 11 05:48 .local\n",
      "-rw-r--r-- 1 root root         2 Jun 11 09:24 .sagemaker-jumpstart-tasks-status.json\n",
      "-rw-r--r-- 1 root root       215 Jun 11 06:18 .wget-hsts\n",
      "-rw-r--r-- 1 root root       211 Jun 11 09:24 .yarnrc\n",
      "-rw-r--r-- 1 root root    155082 Jun 11 06:18 config.yaml\n",
      "-rw-r--r-- 1 root root       126 Jun 11 06:16 environment.yml\n",
      "-rw-r--r-- 1 root root     27274 Jun 11 09:47 quick_start.ipynb\n",
      "-rw-r--r-- 1 root root        27 Jun 11 09:43 requirements.txt\n"
     ]
    }
   ],
   "source": [
    "!ls -la"
   ]
  },
  {
   "cell_type": "markdown",
   "metadata": {},
   "source": [
    "## Setup Configuration file path\n",
    "We need set the directory in which the config.yaml file resides so that remote decorator can make use of the settings."
   ]
  },
  {
   "cell_type": "code",
   "execution_count": 5,
   "metadata": {
    "tags": []
   },
   "outputs": [],
   "source": [
    "import os\n",
    "\n",
    "# Set path to config file\n",
    "os.environ[\"SAGEMAKER_USER_CONFIG_OVERRIDE\"] = os.getcwd()"
   ]
  },
  {
   "cell_type": "code",
   "execution_count": 6,
   "metadata": {
    "tags": []
   },
   "outputs": [
    {
     "data": {
      "text/plain": [
       "'/root'"
      ]
     },
     "execution_count": 6,
     "metadata": {},
     "output_type": "execute_result"
    }
   ],
   "source": [
    "os.getcwd()"
   ]
  },
  {
   "cell_type": "code",
   "execution_count": 7,
   "metadata": {
    "tags": []
   },
   "outputs": [
    {
     "data": {
      "text/plain": [
       "'2.156.0'"
      ]
     },
     "execution_count": 7,
     "metadata": {},
     "output_type": "execute_result"
    }
   ],
   "source": [
    "import sagemaker\n",
    "\n",
    "sagemaker.__version__"
   ]
  },
  {
   "cell_type": "markdown",
   "metadata": {},
   "source": [
    "## Invoke Python function as a SageMaker job\n",
    "\n",
    "There are two ways users could invoke a function as a job.\n",
    "\n",
    "* Using the decorator. When the decorated function is invoked, it executes synchronously"
   ]
  },
  {
   "cell_type": "code",
   "execution_count": 9,
   "metadata": {
    "tags": []
   },
   "outputs": [
    {
     "name": "stdout",
     "output_type": "stream",
     "text": [
      "[Sagemaker Config - applied value]\n",
      " config key = SageMaker.PythonSDK.Modules.RemoteFunction.Dependencies\n",
      " config value that will be used = ./requirements.txt\n",
      "\n",
      "[Sagemaker Config - applied value]\n",
      " config key = SageMaker.PythonSDK.Modules.RemoteFunction.InstanceType\n",
      " config value that will be used = ml.m5.xlarge\n",
      "\n"
     ]
    },
    {
     "name": "stderr",
     "output_type": "stream",
     "text": [
      "2023-06-11 09:51:59,575 sagemaker.remote_function INFO     Copied dependencies file at './requirements.txt' to '/tmp/tmpcscxpwph/temp_workspace/sagemaker_remote_function_workspace/requirements.txt'\n",
      "2023-06-11 09:51:59,577 sagemaker.remote_function INFO     Successfully created workdir archive at '/tmp/tmpcscxpwph/workspace.zip'\n",
      "2023-06-11 09:51:59,624 sagemaker.remote_function INFO     Successfully uploaded workdir to 's3://sagemaker-us-east-1-075912829265/divide-2023-06-11-09-51-59-314/sm_rf_user_ws/workspace.zip'\n",
      "2023-06-11 09:51:59,626 sagemaker.remote_function INFO     Serializing function code to s3://sagemaker-us-east-1-075912829265/divide-2023-06-11-09-51-59-314/function\n",
      "2023-06-11 09:51:59,715 sagemaker.remote_function INFO     Serializing function arguments to s3://sagemaker-us-east-1-075912829265/divide-2023-06-11-09-51-59-314/arguments\n",
      "2023-06-11 09:51:59,774 sagemaker.remote_function INFO     Creating job: divide-2023-06-11-09-51-59-314\n"
     ]
    },
    {
     "name": "stdout",
     "output_type": "stream",
     "text": [
      "2023-06-11 09:51:59 Starting - Starting the training job...\n",
      "2023-06-11 09:52:16 Starting - Preparing the instances for training......\n",
      "2023-06-11 09:53:12 Downloading - Downloading input data...\n",
      "2023-06-11 09:53:43 Training - Training image download completed. Training in progress.\u001b[34mINFO: CONDA_PKGS_DIRS is set to '/opt/ml/sagemaker/warmpoolcache/sm_remotefunction_user_dependencies_cache/conda/pkgs'\u001b[0m\n",
      "\u001b[34mINFO: PIP_CACHE_DIR is set to '/opt/ml/sagemaker/warmpoolcache/sm_remotefunction_user_dependencies_cache/pip'\u001b[0m\n",
      "\u001b[34mINFO: Bootstraping runtime environment.\u001b[0m\n",
      "\u001b[34m2023-06-11 09:53:49,972 sagemaker.remote_function INFO     Successfully unpacked workspace archive at '/'.\u001b[0m\n",
      "\u001b[34m2023-06-11 09:53:49,972 sagemaker.remote_function INFO     '/sagemaker_remote_function_workspace/pre_exec.sh' does not exist. Assuming no pre-execution commands to run\u001b[0m\n",
      "\u001b[34m2023-06-11 09:53:49,972 sagemaker.remote_function INFO     Running command: '/usr/local/bin/python -m pip install -r /sagemaker_remote_function_workspace/requirements.txt' in the dir: '/' \u001b[0m\n",
      "\u001b[34m2023-06-11 09:53:50,781 sagemaker.remote_function INFO     Collecting pandas\u001b[0m\n",
      "\u001b[34m2023-06-11 09:53:50,805 sagemaker.remote_function INFO       Downloading pandas-2.0.2-cp38-cp38-manylinux_2_17_x86_64.manylinux2014_x86_64.whl (12.3 MB)\u001b[0m\n",
      "\u001b[34m2023-06-11 09:53:51,127 sagemaker.remote_function INFO     Collecting sagemaker==2.156.0\u001b[0m\n",
      "\u001b[34m2023-06-11 09:53:51,135 sagemaker.remote_function INFO       Downloading sagemaker-2.156.0.tar.gz (789 kB)\u001b[0m\n",
      "\u001b[34m2023-06-11 09:53:51,574 sagemaker.remote_function INFO     Collecting attrs<24,>=23.1.0\u001b[0m\n",
      "\u001b[34m2023-06-11 09:53:51,588 sagemaker.remote_function INFO       Downloading attrs-23.1.0-py3-none-any.whl (61 kB)\u001b[0m\n",
      "\u001b[34m2023-06-11 09:53:52,450 sagemaker.remote_function INFO     Collecting boto3<2.0,>=1.26.131\u001b[0m\n",
      "\u001b[34m2023-06-11 09:53:52,454 sagemaker.remote_function INFO       Downloading boto3-1.26.151-py3-none-any.whl (135 kB)\u001b[0m\n",
      "\u001b[34m2023-06-11 09:53:52,494 sagemaker.remote_function INFO     Collecting cloudpickle==2.2.1\u001b[0m\n",
      "\u001b[34m2023-06-11 09:53:52,499 sagemaker.remote_function INFO       Downloading cloudpickle-2.2.1-py3-none-any.whl (25 kB)\u001b[0m\n",
      "\u001b[34m2023-06-11 09:53:52,527 sagemaker.remote_function INFO     Collecting google-pasta\u001b[0m\n",
      "\u001b[34m2023-06-11 09:53:52,531 sagemaker.remote_function INFO       Downloading google_pasta-0.2.0-py3-none-any.whl (57 kB)\u001b[0m\n",
      "\u001b[34m2023-06-11 09:53:53,143 sagemaker.remote_function INFO     Collecting numpy<2.0,>=1.9.0\u001b[0m\n",
      "\u001b[34m2023-06-11 09:53:53,147 sagemaker.remote_function INFO       Downloading numpy-1.24.3-cp38-cp38-manylinux_2_17_x86_64.manylinux2014_x86_64.whl (17.3 MB)\u001b[0m\n",
      "\u001b[34m2023-06-11 09:53:53,989 sagemaker.remote_function INFO     Collecting protobuf<4.0,>=3.1\u001b[0m\n",
      "\u001b[34m2023-06-11 09:53:53,997 sagemaker.remote_function INFO       Downloading protobuf-3.20.3-cp38-cp38-manylinux_2_5_x86_64.manylinux1_x86_64.whl (1.0 MB)\u001b[0m\n",
      "\u001b[34m2023-06-11 09:53:54,032 sagemaker.remote_function INFO     Collecting protobuf3-to-dict<1.0,>=0.1.5\u001b[0m\n",
      "\u001b[34m2023-06-11 09:53:54,036 sagemaker.remote_function INFO       Downloading protobuf3-to-dict-0.1.5.tar.gz (3.5 kB)\u001b[0m\n",
      "\u001b[34m2023-06-11 09:53:54,252 sagemaker.remote_function INFO     Collecting smdebug_rulesconfig==1.0.1\u001b[0m\n",
      "\u001b[34m2023-06-11 09:53:54,256 sagemaker.remote_function INFO       Downloading smdebug_rulesconfig-1.0.1-py2.py3-none-any.whl (20 kB)\u001b[0m\n",
      "\u001b[34m2023-06-11 09:53:54,373 sagemaker.remote_function INFO     Collecting importlib-metadata<5.0,>=1.4.0\u001b[0m\n",
      "\u001b[34m2023-06-11 09:53:54,377 sagemaker.remote_function INFO       Downloading importlib_metadata-4.13.0-py3-none-any.whl (23 kB)\u001b[0m\n",
      "\u001b[34m2023-06-11 09:53:54,383 sagemaker.remote_function INFO     Requirement already satisfied: packaging>=20.0 in /usr/local/lib/python3.8/site-packages (from sagemaker==2.156.0->-r /sagemaker_remote_function_workspace/requirements.txt (line 2)) (21.3)\u001b[0m\n",
      "\u001b[34m2023-06-11 09:53:54,403 sagemaker.remote_function INFO     Collecting pathos\u001b[0m\n",
      "\u001b[34m2023-06-11 09:53:54,407 sagemaker.remote_function INFO       Downloading pathos-0.3.0-py3-none-any.whl (79 kB)\u001b[0m\n",
      "\u001b[34m2023-06-11 09:53:54,438 sagemaker.remote_function INFO     Collecting schema\u001b[0m\n",
      "\u001b[34m2023-06-11 09:53:54,442 sagemaker.remote_function INFO       Downloading schema-0.7.5-py2.py3-none-any.whl (17 kB)\u001b[0m\n",
      "\u001b[34m2023-06-11 09:53:54,550 sagemaker.remote_function INFO     Collecting PyYAML==6.0\u001b[0m\n",
      "\u001b[34m2023-06-11 09:53:54,557 sagemaker.remote_function INFO       Downloading PyYAML-6.0-cp38-cp38-manylinux_2_5_x86_64.manylinux1_x86_64.manylinux_2_12_x86_64.manylinux2010_x86_64.whl (701 kB)\u001b[0m\n",
      "\u001b[34m2023-06-11 09:53:54,640 sagemaker.remote_function INFO     Collecting jsonschema\u001b[0m\n",
      "\u001b[34m2023-06-11 09:53:54,645 sagemaker.remote_function INFO       Downloading jsonschema-4.17.3-py3-none-any.whl (90 kB)\u001b[0m\n",
      "\u001b[34m2023-06-11 09:53:54,652 sagemaker.remote_function INFO     Requirement already satisfied: platformdirs in /usr/local/lib/python3.8/site-packages (from sagemaker==2.156.0->-r /sagemaker_remote_function_workspace/requirements.txt (line 2)) (3.2.0)\u001b[0m\n",
      "\u001b[34m2023-06-11 09:53:54,675 sagemaker.remote_function INFO     Collecting tblib==1.7.0\u001b[0m\n",
      "\u001b[34m2023-06-11 09:53:54,679 sagemaker.remote_function INFO       Downloading tblib-1.7.0-py2.py3-none-any.whl (12 kB)\u001b[0m\n",
      "\u001b[34m2023-06-11 09:53:54,915 sagemaker.remote_function INFO     Collecting pytz>=2020.1\u001b[0m\n",
      "\u001b[34m2023-06-11 09:53:54,922 sagemaker.remote_function INFO       Downloading pytz-2023.3-py2.py3-none-any.whl (502 kB)\u001b[0m\n",
      "\u001b[34m2023-06-11 09:53:54,959 sagemaker.remote_function INFO     Requirement already satisfied: python-dateutil>=2.8.2 in /usr/local/lib/python3.8/site-packages (from pandas->-r /sagemaker_remote_function_workspace/requirements.txt (line 1)) (2.8.2)\u001b[0m\n",
      "\u001b[34m2023-06-11 09:53:54,995 sagemaker.remote_function INFO     Collecting tzdata>=2022.1\u001b[0m\n",
      "\u001b[34m2023-06-11 09:53:55,001 sagemaker.remote_function INFO       Downloading tzdata-2023.3-py2.py3-none-any.whl (341 kB)\u001b[0m\n",
      "\u001b[34m2023-06-11 09:53:55,045 sagemaker.remote_function INFO     Requirement already satisfied: jmespath<2.0.0,>=0.7.1 in /usr/local/lib/python3.8/site-packages (from boto3<2.0,>=1.26.131->sagemaker==2.156.0->-r /sagemaker_remote_function_workspace/requirements.txt (line 2)) (1.0.1)\u001b[0m\n",
      "\u001b[34m2023-06-11 09:53:56,068 sagemaker.remote_function INFO     Collecting botocore<1.30.0,>=1.29.151\u001b[0m\n",
      "\u001b[34m2023-06-11 09:53:56,073 sagemaker.remote_function INFO       Downloading botocore-1.29.151-py3-none-any.whl (10.9 MB)\u001b[0m\n",
      "\u001b[34m2023-06-11 09:53:56,240 sagemaker.remote_function INFO     Requirement already satisfied: s3transfer<0.7.0,>=0.6.0 in /usr/local/lib/python3.8/site-packages (from boto3<2.0,>=1.26.131->sagemaker==2.156.0->-r /sagemaker_remote_function_workspace/requirements.txt (line 2)) (0.6.0)\u001b[0m\n",
      "\u001b[34m2023-06-11 09:53:56,248 sagemaker.remote_function INFO     Requirement already satisfied: urllib3<1.27,>=1.25.4 in /usr/local/lib/python3.8/site-packages (from botocore<1.30.0,>=1.29.151->boto3<2.0,>=1.26.131->sagemaker==2.156.0->-r /sagemaker_remote_function_workspace/requirements.txt (line 2)) (1.26.15)\u001b[0m\n",
      "\u001b[34m2023-06-11 09:53:56,271 sagemaker.remote_function INFO     Requirement already satisfied: zipp>=0.5 in /usr/local/lib/python3.8/site-packages (from importlib-metadata<5.0,>=1.4.0->sagemaker==2.156.0->-r /sagemaker_remote_function_workspace/requirements.txt (line 2)) (3.15.0)\u001b[0m\n",
      "\u001b[34m2023-06-11 09:53:56,280 sagemaker.remote_function INFO     Requirement already satisfied: pyparsing!=3.0.5,>=2.0.2 in /usr/local/lib/python3.8/site-packages (from packaging>=20.0->sagemaker==2.156.0->-r /sagemaker_remote_function_workspace/requirements.txt (line 2)) (3.0.9)\u001b[0m\n",
      "\u001b[34m2023-06-11 09:53:56,315 sagemaker.remote_function INFO     Requirement already satisfied: six in /usr/local/lib/python3.8/site-packages (from protobuf3-to-dict<1.0,>=0.1.5->sagemaker==2.156.0->-r /sagemaker_remote_function_workspace/requirements.txt (line 2)) (1.16.0)\u001b[0m\n",
      "\u001b[34m2023-06-11 09:53:56,589 sagemaker.remote_function INFO     Collecting pkgutil-resolve-name>=1.3.10\u001b[0m\n",
      "\u001b[34m2023-06-11 09:53:56,595 sagemaker.remote_function INFO       Downloading pkgutil_resolve_name-1.3.10-py3-none-any.whl (4.7 kB)\u001b[0m\n",
      "\u001b[34m2023-06-11 09:53:56,678 sagemaker.remote_function INFO     Collecting pyrsistent!=0.17.0,!=0.17.1,!=0.17.2,>=0.14.0\u001b[0m\n",
      "\u001b[34m2023-06-11 09:53:56,682 sagemaker.remote_function INFO       Downloading pyrsistent-0.19.3-py3-none-any.whl (57 kB)\u001b[0m\n",
      "\u001b[34m2023-06-11 09:53:56,757 sagemaker.remote_function INFO     Collecting importlib-resources>=1.4.0\u001b[0m\n",
      "\u001b[34m2023-06-11 09:53:56,762 sagemaker.remote_function INFO       Downloading importlib_resources-5.12.0-py3-none-any.whl (36 kB)\u001b[0m\n",
      "\u001b[34m2023-06-11 09:53:56,828 sagemaker.remote_function INFO     Collecting dill>=0.3.6\u001b[0m\n",
      "\u001b[34m2023-06-11 09:53:56,832 sagemaker.remote_function INFO       Downloading dill-0.3.6-py3-none-any.whl (110 kB)\u001b[0m\n",
      "\u001b[34m2023-06-11 09:53:56,858 sagemaker.remote_function INFO     Collecting ppft>=1.7.6.6\u001b[0m\n",
      "\u001b[34m2023-06-11 09:53:56,863 sagemaker.remote_function INFO       Downloading ppft-1.7.6.6-py3-none-any.whl (52 kB)\u001b[0m\n",
      "\u001b[34m2023-06-11 09:53:56,887 sagemaker.remote_function INFO     Collecting pox>=0.3.2\u001b[0m\n",
      "\u001b[34m2023-06-11 09:53:56,892 sagemaker.remote_function INFO       Downloading pox-0.3.2-py3-none-any.whl (29 kB)\u001b[0m\n",
      "\u001b[34m2023-06-11 09:53:56,942 sagemaker.remote_function INFO     Collecting multiprocess>=0.70.14\u001b[0m\n",
      "\u001b[34m2023-06-11 09:53:56,948 sagemaker.remote_function INFO       Downloading multiprocess-0.70.14-py38-none-any.whl (132 kB)\u001b[0m\n",
      "\u001b[34m2023-06-11 09:53:57,017 sagemaker.remote_function INFO     Collecting contextlib2>=0.5.5\u001b[0m\n",
      "\u001b[34m2023-06-11 09:53:57,022 sagemaker.remote_function INFO       Downloading contextlib2-21.6.0-py2.py3-none-any.whl (13 kB)\u001b[0m\n",
      "\u001b[34m2023-06-11 09:53:57,035 sagemaker.remote_function INFO     Building wheels for collected packages: sagemaker, protobuf3-to-dict\u001b[0m\n",
      "\u001b[34m2023-06-11 09:53:57,035 sagemaker.remote_function INFO       Building wheel for sagemaker (setup.py): started\u001b[0m\n",
      "\u001b[34m2023-06-11 09:53:57,673 sagemaker.remote_function INFO       Building wheel for sagemaker (setup.py): finished with status 'done'\u001b[0m\n",
      "\u001b[34m2023-06-11 09:53:57,678 sagemaker.remote_function INFO       Created wheel for sagemaker: filename=sagemaker-2.156.0-py2.py3-none-any.whl size=1066257 sha256=01368cd96d4e12c11024ac52304016af837413d350097f48601cece9a1ea8dd9\u001b[0m\n",
      "\u001b[34m2023-06-11 09:53:57,678 sagemaker.remote_function INFO       Stored in directory: /opt/ml/sagemaker/warmpoolcache/sm_remotefunction_user_dependencies_cache/pip/wheels/55/52/07/ee9de477a79536a96b588aa9be31e88de533f5f9b926b68f21\u001b[0m\n",
      "\u001b[34m2023-06-11 09:53:57,684 sagemaker.remote_function INFO       Building wheel for protobuf3-to-dict (setup.py): started\u001b[0m\n",
      "\u001b[34m2023-06-11 09:53:57,930 sagemaker.remote_function INFO       Building wheel for protobuf3-to-dict (setup.py): finished with status 'done'\u001b[0m\n",
      "\u001b[34m2023-06-11 09:53:57,931 sagemaker.remote_function INFO       Created wheel for protobuf3-to-dict: filename=protobuf3_to_dict-0.1.5-py3-none-any.whl size=4016 sha256=38554bc25e38fa4f7e87d6536ae0d0fb4935a5a95b2661f39663ac22590e7db3\u001b[0m\n",
      "\u001b[34m2023-06-11 09:53:57,931 sagemaker.remote_function INFO       Stored in directory: /opt/ml/sagemaker/warmpoolcache/sm_remotefunction_user_dependencies_cache/pip/wheels/fc/10/27/2d1e23d8b9a9013a83fbb418a0b17b1e6f81c8db8f53b53934\u001b[0m\n",
      "\u001b[34m2023-06-11 09:53:57,933 sagemaker.remote_function INFO     Successfully built sagemaker protobuf3-to-dict\u001b[0m\n",
      "\u001b[34m2023-06-11 09:53:58,470 sagemaker.remote_function INFO     Installing collected packages: dill, botocore, tzdata, pytz, pyrsistent, protobuf, ppft, pox, pkgutil-resolve-name, numpy, multiprocess, importlib-resources, contextlib2, attrs, tblib, smdebug-rulesconfig, schema, PyYAML, protobuf3-to-dict, pathos, pandas, jsonschema, importlib-metadata, google-pasta, cloudpickle, boto3, sagemaker\u001b[0m\n",
      "\u001b[34m2023-06-11 09:53:58,575 sagemaker.remote_function INFO       Attempting uninstall: botocore\u001b[0m\n",
      "\u001b[34m2023-06-11 09:53:58,576 sagemaker.remote_function INFO         Found existing installation: botocore 1.29.111\u001b[0m\n",
      "\u001b[34m2023-06-11 09:53:58,693 sagemaker.remote_function INFO         Uninstalling botocore-1.29.111:\u001b[0m\n",
      "\u001b[34m2023-06-11 09:53:59,045 sagemaker.remote_function INFO           Successfully uninstalled botocore-1.29.111\u001b[0m\n",
      "\u001b[34m2023-06-11 09:54:02,687 sagemaker.remote_function INFO       Attempting uninstall: PyYAML\u001b[0m\n",
      "\u001b[34m2023-06-11 09:54:02,687 sagemaker.remote_function INFO         Found existing installation: PyYAML 5.4.1\u001b[0m\n",
      "\u001b[34m2023-06-11 09:54:02,695 sagemaker.remote_function INFO         Uninstalling PyYAML-5.4.1:\u001b[0m\n",
      "\u001b[34m2023-06-11 09:54:02,706 sagemaker.remote_function INFO           Successfully uninstalled PyYAML-5.4.1\u001b[0m\n",
      "\u001b[34m2023-06-11 09:54:06,889 sagemaker.remote_function INFO       Attempting uninstall: importlib-metadata\u001b[0m\n",
      "\u001b[34m2023-06-11 09:54:06,890 sagemaker.remote_function INFO         Found existing installation: importlib-metadata 6.3.0\u001b[0m\n",
      "\u001b[34m2023-06-11 09:54:06,893 sagemaker.remote_function INFO         Uninstalling importlib-metadata-6.3.0:\u001b[0m\n",
      "\u001b[34m2023-06-11 09:54:06,897 sagemaker.remote_function INFO           Successfully uninstalled importlib-metadata-6.3.0\u001b[0m\n",
      "\u001b[34m2023-06-11 09:54:06,978 sagemaker.remote_function INFO       Attempting uninstall: boto3\u001b[0m\n",
      "\u001b[34m2023-06-11 09:54:06,979 sagemaker.remote_function INFO         Found existing installation: boto3 1.26.111\u001b[0m\n",
      "\u001b[34m2023-06-11 09:54:06,991 sagemaker.remote_function INFO         Uninstalling boto3-1.26.111:\u001b[0m\n",
      "\u001b[34m2023-06-11 09:54:07,010 sagemaker.remote_function INFO           Successfully uninstalled boto3-1.26.111\u001b[0m\n",
      "\u001b[34m2023-06-11 09:54:07,595 sagemaker.remote_function INFO     Successfully installed PyYAML-6.0 attrs-23.1.0 boto3-1.26.151 botocore-1.29.151 cloudpickle-2.2.1 contextlib2-21.6.0 dill-0.3.6 google-pasta-0.2.0 importlib-metadata-4.13.0 importlib-resources-5.12.0 jsonschema-4.17.3 multiprocess-0.70.14 numpy-1.24.3 pandas-2.0.2 pathos-0.3.0 pkgutil-resolve-name-1.3.10 pox-0.3.2 ppft-1.7.6.6 protobuf-3.20.3 protobuf3-to-dict-0.1.5 pyrsistent-0.19.3 pytz-2023.3 sagemaker-2.156.0 schema-0.7.5 smdebug-rulesconfig-1.0.1 tblib-1.7.0 tzdata-2023.3\u001b[0m\n",
      "\u001b[34m2023-06-11 09:54:08,010 sagemaker.remote_function ERROR    ERROR: pip's dependency resolver does not currently take into account all the packages that are installed. This behaviour is the source of the following dependency conflicts.\u001b[0m\n",
      "\u001b[34m2023-06-11 09:54:08,010 sagemaker.remote_function WARNING  awscli 1.27.111 requires botocore==1.29.111, but you have botocore 1.29.151 which is incompatible.\u001b[0m\n",
      "\u001b[34m2023-06-11 09:54:08,011 sagemaker.remote_function WARNING  awscli 1.27.111 requires PyYAML<5.5,>=3.10, but you have pyyaml 6.0 which is incompatible.\u001b[0m\n",
      "\u001b[34m2023-06-11 09:54:08,011 sagemaker.remote_function WARNING  WARNING: Running pip as the 'root' user can result in broken permissions and conflicting behaviour with the system package manager. It is recommended to use a virtual environment instead: https://pip.pypa.io/warnings/venv\u001b[0m\n",
      "\u001b[34m2023-06-11 09:54:08,011 sagemaker.remote_function WARNING  WARNING: You are using pip version 21.2.4; however, version 23.1.2 is available.\u001b[0m\n",
      "\u001b[34m2023-06-11 09:54:08,011 sagemaker.remote_function WARNING  You should consider upgrading via the '/usr/local/bin/python -m pip install --upgrade pip' command.\u001b[0m\n",
      "\u001b[34m2023-06-11 09:54:08,011 sagemaker.remote_function INFO     Command /usr/local/bin/python -m pip install -r /sagemaker_remote_function_workspace/requirements.txt ran successfully\u001b[0m\n",
      "\u001b[34mINFO: Changing workspace to sagemaker_remote_function_workspace.\u001b[0m\n",
      "\u001b[34mINFO: No conda env provided. Invoking remote function\u001b[0m\n",
      "\u001b[34m2023-06-11 09:54:08,936 sagemaker.remote_function INFO     Deserializing function code from s3://sagemaker-us-east-1-075912829265/divide-2023-06-11-09-51-59-314/function\u001b[0m\n",
      "\u001b[34m2023-06-11 09:54:09,044 sagemaker.remote_function INFO     Deserializing function arguments from s3://sagemaker-us-east-1-075912829265/divide-2023-06-11-09-51-59-314/arguments\u001b[0m\n",
      "\u001b[34m2023-06-11 09:54:09,101 sagemaker.remote_function INFO     Invoking the function\u001b[0m\n",
      "\u001b[34m2023-06-11 09:54:09,101 sagemaker.remote_function INFO     Serializing the function return and uploading to s3://sagemaker-us-east-1-075912829265/divide-2023-06-11-09-51-59-314/results\u001b[0m\n",
      "\u001b[34mCalculating 3/2\u001b[0m\n",
      "\n",
      "2023-06-11 09:54:19 Uploading - Uploading generated training model\n",
      "2023-06-11 09:54:19 Completed - Training job completed\n",
      "Training seconds: 67\n",
      "Billable seconds: 67\n"
     ]
    },
    {
     "data": {
      "text/plain": [
       "1.5"
      ]
     },
     "execution_count": 9,
     "metadata": {},
     "output_type": "execute_result"
    }
   ],
   "source": [
    "from sagemaker.remote_function import remote\n",
    "\n",
    "\n",
    "@remote\n",
    "def divide(x, y):\n",
    "    print(f\"Calculating {x}/{y}\")\n",
    "    return x / y\n",
    "\n",
    "\n",
    "divide(3, 2)"
   ]
  },
  {
   "cell_type": "markdown",
   "metadata": {},
   "source": [
    "* Using the RemoteExecutor APIs. They follow the pattern of the Python [concurrent.futures](https://docs.python.org/3/library/concurrent.futures.html) APIs."
   ]
  },
  {
   "cell_type": "code",
   "execution_count": null,
   "metadata": {
    "collapsed": false,
    "jupyter": {
     "outputs_hidden": false
    },
    "tags": []
   },
   "outputs": [],
   "source": [
    "def divide(x, y):\n",
    "    print(f\"Calculating {x}/{y}\")\n",
    "    return x / y\n",
    "\n",
    "\n",
    "from sagemaker.remote_function import RemoteExecutor\n",
    "\n",
    "with RemoteExecutor(max_parallel_jobs=1, keep_alive_period_in_seconds=30) as executor:\n",
    "    futures = [executor.submit(divide, x, 2) for x in [1, 2, 3]]"
   ]
  },
  {
   "cell_type": "code",
   "execution_count": null,
   "metadata": {
    "collapsed": false,
    "jupyter": {
     "outputs_hidden": false
    }
   },
   "outputs": [],
   "source": [
    "[future.result() for future in futures]"
   ]
  },
  {
   "cell_type": "markdown",
   "metadata": {},
   "source": [
    "## Customize the decorator settings\n",
    "\n",
    "In the examples above, the @remote decorator and RemoteExecutor looked for configurations in the path set in the environment variable `SAGEMAKER_USER_CONFIG_OVERRIDE`/\n",
    "We set the value to use the local configuration file `config.yaml` present in the current directory `./`\n",
    "\n",
    "You can override the configurations by specifying the decorator arguments directly. In the following example, instead of launching the job with `ml.m5.xlarge`,\n",
    "as specified in the `./config.yaml`, run the function with a more powerful instance"
   ]
  },
  {
   "cell_type": "code",
   "execution_count": null,
   "metadata": {
    "collapsed": false,
    "jupyter": {
     "outputs_hidden": false
    },
    "tags": []
   },
   "outputs": [],
   "source": [
    "@remote(instance_type=\"ml.m5.4xlarge\")\n",
    "def divide(x, y):\n",
    "    print(f\"Calculating {x}/{y}\")\n",
    "    return x / y\n",
    "\n",
    "\n",
    "divide(3, 2)"
   ]
  },
  {
   "cell_type": "markdown",
   "metadata": {},
   "source": [
    "## Add extra dependencies using conda environment yml file\n",
    "\n",
    "In the example below, the function will run in a new conda environment where pandas and sagemaker will be installed.\n",
    "(Note that the cell will not run if executed in SageMaker Studio.)"
   ]
  },
  {
   "cell_type": "code",
   "execution_count": null,
   "metadata": {
    "collapsed": false,
    "jupyter": {
     "outputs_hidden": false
    }
   },
   "outputs": [],
   "source": [
    "import pandas as pd\n",
    "\n",
    "\n",
    "@remote(dependencies=\"./environment.yml\")\n",
    "def multiply(dataframe: pd.DataFrame, factor: float):\n",
    "    return dataframe * factor\n",
    "\n",
    "\n",
    "df = pd.DataFrame(\n",
    "    {\n",
    "        \"A\": [14, 4, 5, 4, 1],\n",
    "        \"B\": [5, 2, 54, 3, 2],\n",
    "        \"C\": [20, 20, 7, 3, 8],\n",
    "        \"D\": [14, 3, 6, 2, 6],\n",
    "    }\n",
    ")\n",
    "\n",
    "multiply(df, 10.0)"
   ]
  },
  {
   "cell_type": "markdown",
   "metadata": {},
   "source": [
    "## Common errors"
   ]
  },
  {
   "cell_type": "markdown",
   "metadata": {},
   "source": [
    "### SerializationError and DeserializationError\n",
    "\n",
    "Behind the scenes, the function and function arguments and returns are serialized and deserialized using Pickle.\n",
    "\n",
    "While SerializationError occurs when passing an unpickle-able object as function argument, such as XGBoost DMatrix, open file object. DeserializationError typically happens when there is discrepancy between the dependencies in the local environments and dependencies in\n",
    "the job environments. In the following example, the latest pandas is used to declare a dataframe. The dataframe is passed to the function\n",
    "call. On the job side, an older version of pandas is installed. The dataframe can't be deserialized."
   ]
  },
  {
   "cell_type": "code",
   "execution_count": null,
   "metadata": {
    "collapsed": false,
    "jupyter": {
     "outputs_hidden": false
    }
   },
   "outputs": [],
   "source": [
    "import pandas as pd\n",
    "\n",
    "\n",
    "@remote(dependencies=\"./incompatible_requirements.txt\")\n",
    "def multiply(dataframe: pd.DataFrame, factor: float):\n",
    "    return dataframe * factor\n",
    "\n",
    "\n",
    "df = pd.DataFrame(\n",
    "    {\n",
    "        \"A\": [14, 4, 5, 4, 1],\n",
    "        \"B\": [5, 2, 54, 3, 2],\n",
    "        \"C\": [20, 20, 7, 3, 8],\n",
    "        \"D\": [14, 3, 6, 2, 6],\n",
    "    }\n",
    ")\n",
    "\n",
    "multiply(df, 10.0)"
   ]
  },
  {
   "cell_type": "markdown",
   "metadata": {},
   "source": [
    "## Notebook CI Test Results\n",
    "\n",
    "This notebook was tested in multiple regions. The test results are as follows, except for us-west-2 which is shown at the top of the notebook.\n",
    "\n",
    "![This us-east-1 badge failed to load. Check your device's internet connectivity, otherwise the service is currently unavailable](https://h75twx4l60.execute-api.us-west-2.amazonaws.com/sagemaker-nb/us-east-1/sagemaker-remote-function|quick_start|quick_start.ipynb)\n",
    "\n",
    "![This us-east-2 badge failed to load. Check your device's internet connectivity, otherwise the service is currently unavailable](https://h75twx4l60.execute-api.us-west-2.amazonaws.com/sagemaker-nb/us-east-2/sagemaker-remote-function|quick_start|quick_start.ipynb)\n",
    "\n",
    "![This us-west-1 badge failed to load. Check your device's internet connectivity, otherwise the service is currently unavailable](https://h75twx4l60.execute-api.us-west-2.amazonaws.com/sagemaker-nb/us-west-1/sagemaker-remote-function|quick_start|quick_start.ipynb)\n",
    "\n",
    "![This ca-central-1 badge failed to load. Check your device's internet connectivity, otherwise the service is currently unavailable](https://h75twx4l60.execute-api.us-west-2.amazonaws.com/sagemaker-nb/ca-central-1/sagemaker-remote-function|quick_start|quick_start.ipynb)\n",
    "\n",
    "![This sa-east-1 badge failed to load. Check your device's internet connectivity, otherwise the service is currently unavailable](https://h75twx4l60.execute-api.us-west-2.amazonaws.com/sagemaker-nb/sa-east-1/sagemaker-remote-function|quick_start|quick_start.ipynb)\n",
    "\n",
    "![This eu-west-1 badge failed to load. Check your device's internet connectivity, otherwise the service is currently unavailable](https://h75twx4l60.execute-api.us-west-2.amazonaws.com/sagemaker-nb/eu-west-1/sagemaker-remote-function|quick_start|quick_start.ipynb)\n",
    "\n",
    "![This eu-west-2 badge failed to load. Check your device's internet connectivity, otherwise the service is currently unavailable](https://h75twx4l60.execute-api.us-west-2.amazonaws.com/sagemaker-nb/eu-west-2/sagemaker-remote-function|quick_start|quick_start.ipynb)\n",
    "\n",
    "![This eu-west-3 badge failed to load. Check your device's internet connectivity, otherwise the service is currently unavailable](https://h75twx4l60.execute-api.us-west-2.amazonaws.com/sagemaker-nb/eu-west-3/sagemaker-remote-function|quick_start|quick_start.ipynb)\n",
    "\n",
    "![This eu-central-1 badge failed to load. Check your device's internet connectivity, otherwise the service is currently unavailable](https://h75twx4l60.execute-api.us-west-2.amazonaws.com/sagemaker-nb/eu-central-1/sagemaker-remote-function|quick_start|quick_start.ipynb)\n",
    "\n",
    "![This eu-north-1 badge failed to load. Check your device's internet connectivity, otherwise the service is currently unavailable](https://h75twx4l60.execute-api.us-west-2.amazonaws.com/sagemaker-nb/eu-north-1/sagemaker-remote-function|quick_start|quick_start.ipynb)\n",
    "\n",
    "![This ap-southeast-1 badge failed to load. Check your device's internet connectivity, otherwise the service is currently unavailable](https://h75twx4l60.execute-api.us-west-2.amazonaws.com/sagemaker-nb/ap-southeast-1/sagemaker-remote-function|quick_start|quick_start.ipynb)\n",
    "\n",
    "![This ap-southeast-2 badge failed to load. Check your device's internet connectivity, otherwise the service is currently unavailable](https://h75twx4l60.execute-api.us-west-2.amazonaws.com/sagemaker-nb/ap-southeast-2/sagemaker-remote-function|quick_start|quick_start.ipynb)\n",
    "\n",
    "![This ap-northeast-1 badge failed to load. Check your device's internet connectivity, otherwise the service is currently unavailable](https://h75twx4l60.execute-api.us-west-2.amazonaws.com/sagemaker-nb/ap-northeast-1/sagemaker-remote-function|quick_start|quick_start.ipynb)\n",
    "\n",
    "![This ap-northeast-2 badge failed to load. Check your device's internet connectivity, otherwise the service is currently unavailable](https://h75twx4l60.execute-api.us-west-2.amazonaws.com/sagemaker-nb/ap-northeast-2/sagemaker-remote-function|quick_start|quick_start.ipynb)\n",
    "\n",
    "![This ap-south-1 badge failed to load. Check your device's internet connectivity, otherwise the service is currently unavailable](https://h75twx4l60.execute-api.us-west-2.amazonaws.com/sagemaker-nb/ap-south-1/sagemaker-remote-function|quick_start|quick_start.ipynb)\n"
   ]
  }
 ],
 "metadata": {
  "availableInstances": [
   {
    "_defaultOrder": 0,
    "_isFastLaunch": true,
    "category": "General purpose",
    "gpuNum": 0,
    "hideHardwareSpecs": false,
    "memoryGiB": 4,
    "name": "ml.t3.medium",
    "vcpuNum": 2
   },
   {
    "_defaultOrder": 1,
    "_isFastLaunch": false,
    "category": "General purpose",
    "gpuNum": 0,
    "hideHardwareSpecs": false,
    "memoryGiB": 8,
    "name": "ml.t3.large",
    "vcpuNum": 2
   },
   {
    "_defaultOrder": 2,
    "_isFastLaunch": false,
    "category": "General purpose",
    "gpuNum": 0,
    "hideHardwareSpecs": false,
    "memoryGiB": 16,
    "name": "ml.t3.xlarge",
    "vcpuNum": 4
   },
   {
    "_defaultOrder": 3,
    "_isFastLaunch": false,
    "category": "General purpose",
    "gpuNum": 0,
    "hideHardwareSpecs": false,
    "memoryGiB": 32,
    "name": "ml.t3.2xlarge",
    "vcpuNum": 8
   },
   {
    "_defaultOrder": 4,
    "_isFastLaunch": true,
    "category": "General purpose",
    "gpuNum": 0,
    "hideHardwareSpecs": false,
    "memoryGiB": 8,
    "name": "ml.m5.large",
    "vcpuNum": 2
   },
   {
    "_defaultOrder": 5,
    "_isFastLaunch": false,
    "category": "General purpose",
    "gpuNum": 0,
    "hideHardwareSpecs": false,
    "memoryGiB": 16,
    "name": "ml.m5.xlarge",
    "vcpuNum": 4
   },
   {
    "_defaultOrder": 6,
    "_isFastLaunch": false,
    "category": "General purpose",
    "gpuNum": 0,
    "hideHardwareSpecs": false,
    "memoryGiB": 32,
    "name": "ml.m5.2xlarge",
    "vcpuNum": 8
   },
   {
    "_defaultOrder": 7,
    "_isFastLaunch": false,
    "category": "General purpose",
    "gpuNum": 0,
    "hideHardwareSpecs": false,
    "memoryGiB": 64,
    "name": "ml.m5.4xlarge",
    "vcpuNum": 16
   },
   {
    "_defaultOrder": 8,
    "_isFastLaunch": false,
    "category": "General purpose",
    "gpuNum": 0,
    "hideHardwareSpecs": false,
    "memoryGiB": 128,
    "name": "ml.m5.8xlarge",
    "vcpuNum": 32
   },
   {
    "_defaultOrder": 9,
    "_isFastLaunch": false,
    "category": "General purpose",
    "gpuNum": 0,
    "hideHardwareSpecs": false,
    "memoryGiB": 192,
    "name": "ml.m5.12xlarge",
    "vcpuNum": 48
   },
   {
    "_defaultOrder": 10,
    "_isFastLaunch": false,
    "category": "General purpose",
    "gpuNum": 0,
    "hideHardwareSpecs": false,
    "memoryGiB": 256,
    "name": "ml.m5.16xlarge",
    "vcpuNum": 64
   },
   {
    "_defaultOrder": 11,
    "_isFastLaunch": false,
    "category": "General purpose",
    "gpuNum": 0,
    "hideHardwareSpecs": false,
    "memoryGiB": 384,
    "name": "ml.m5.24xlarge",
    "vcpuNum": 96
   },
   {
    "_defaultOrder": 12,
    "_isFastLaunch": false,
    "category": "General purpose",
    "gpuNum": 0,
    "hideHardwareSpecs": false,
    "memoryGiB": 8,
    "name": "ml.m5d.large",
    "vcpuNum": 2
   },
   {
    "_defaultOrder": 13,
    "_isFastLaunch": false,
    "category": "General purpose",
    "gpuNum": 0,
    "hideHardwareSpecs": false,
    "memoryGiB": 16,
    "name": "ml.m5d.xlarge",
    "vcpuNum": 4
   },
   {
    "_defaultOrder": 14,
    "_isFastLaunch": false,
    "category": "General purpose",
    "gpuNum": 0,
    "hideHardwareSpecs": false,
    "memoryGiB": 32,
    "name": "ml.m5d.2xlarge",
    "vcpuNum": 8
   },
   {
    "_defaultOrder": 15,
    "_isFastLaunch": false,
    "category": "General purpose",
    "gpuNum": 0,
    "hideHardwareSpecs": false,
    "memoryGiB": 64,
    "name": "ml.m5d.4xlarge",
    "vcpuNum": 16
   },
   {
    "_defaultOrder": 16,
    "_isFastLaunch": false,
    "category": "General purpose",
    "gpuNum": 0,
    "hideHardwareSpecs": false,
    "memoryGiB": 128,
    "name": "ml.m5d.8xlarge",
    "vcpuNum": 32
   },
   {
    "_defaultOrder": 17,
    "_isFastLaunch": false,
    "category": "General purpose",
    "gpuNum": 0,
    "hideHardwareSpecs": false,
    "memoryGiB": 192,
    "name": "ml.m5d.12xlarge",
    "vcpuNum": 48
   },
   {
    "_defaultOrder": 18,
    "_isFastLaunch": false,
    "category": "General purpose",
    "gpuNum": 0,
    "hideHardwareSpecs": false,
    "memoryGiB": 256,
    "name": "ml.m5d.16xlarge",
    "vcpuNum": 64
   },
   {
    "_defaultOrder": 19,
    "_isFastLaunch": false,
    "category": "General purpose",
    "gpuNum": 0,
    "hideHardwareSpecs": false,
    "memoryGiB": 384,
    "name": "ml.m5d.24xlarge",
    "vcpuNum": 96
   },
   {
    "_defaultOrder": 20,
    "_isFastLaunch": false,
    "category": "General purpose",
    "gpuNum": 0,
    "hideHardwareSpecs": true,
    "memoryGiB": 0,
    "name": "ml.geospatial.interactive",
    "supportedImageNames": [
     "sagemaker-geospatial-v1-0"
    ],
    "vcpuNum": 0
   },
   {
    "_defaultOrder": 21,
    "_isFastLaunch": true,
    "category": "Compute optimized",
    "gpuNum": 0,
    "hideHardwareSpecs": false,
    "memoryGiB": 4,
    "name": "ml.c5.large",
    "vcpuNum": 2
   },
   {
    "_defaultOrder": 22,
    "_isFastLaunch": false,
    "category": "Compute optimized",
    "gpuNum": 0,
    "hideHardwareSpecs": false,
    "memoryGiB": 8,
    "name": "ml.c5.xlarge",
    "vcpuNum": 4
   },
   {
    "_defaultOrder": 23,
    "_isFastLaunch": false,
    "category": "Compute optimized",
    "gpuNum": 0,
    "hideHardwareSpecs": false,
    "memoryGiB": 16,
    "name": "ml.c5.2xlarge",
    "vcpuNum": 8
   },
   {
    "_defaultOrder": 24,
    "_isFastLaunch": false,
    "category": "Compute optimized",
    "gpuNum": 0,
    "hideHardwareSpecs": false,
    "memoryGiB": 32,
    "name": "ml.c5.4xlarge",
    "vcpuNum": 16
   },
   {
    "_defaultOrder": 25,
    "_isFastLaunch": false,
    "category": "Compute optimized",
    "gpuNum": 0,
    "hideHardwareSpecs": false,
    "memoryGiB": 72,
    "name": "ml.c5.9xlarge",
    "vcpuNum": 36
   },
   {
    "_defaultOrder": 26,
    "_isFastLaunch": false,
    "category": "Compute optimized",
    "gpuNum": 0,
    "hideHardwareSpecs": false,
    "memoryGiB": 96,
    "name": "ml.c5.12xlarge",
    "vcpuNum": 48
   },
   {
    "_defaultOrder": 27,
    "_isFastLaunch": false,
    "category": "Compute optimized",
    "gpuNum": 0,
    "hideHardwareSpecs": false,
    "memoryGiB": 144,
    "name": "ml.c5.18xlarge",
    "vcpuNum": 72
   },
   {
    "_defaultOrder": 28,
    "_isFastLaunch": false,
    "category": "Compute optimized",
    "gpuNum": 0,
    "hideHardwareSpecs": false,
    "memoryGiB": 192,
    "name": "ml.c5.24xlarge",
    "vcpuNum": 96
   },
   {
    "_defaultOrder": 29,
    "_isFastLaunch": true,
    "category": "Accelerated computing",
    "gpuNum": 1,
    "hideHardwareSpecs": false,
    "memoryGiB": 16,
    "name": "ml.g4dn.xlarge",
    "vcpuNum": 4
   },
   {
    "_defaultOrder": 30,
    "_isFastLaunch": false,
    "category": "Accelerated computing",
    "gpuNum": 1,
    "hideHardwareSpecs": false,
    "memoryGiB": 32,
    "name": "ml.g4dn.2xlarge",
    "vcpuNum": 8
   },
   {
    "_defaultOrder": 31,
    "_isFastLaunch": false,
    "category": "Accelerated computing",
    "gpuNum": 1,
    "hideHardwareSpecs": false,
    "memoryGiB": 64,
    "name": "ml.g4dn.4xlarge",
    "vcpuNum": 16
   },
   {
    "_defaultOrder": 32,
    "_isFastLaunch": false,
    "category": "Accelerated computing",
    "gpuNum": 1,
    "hideHardwareSpecs": false,
    "memoryGiB": 128,
    "name": "ml.g4dn.8xlarge",
    "vcpuNum": 32
   },
   {
    "_defaultOrder": 33,
    "_isFastLaunch": false,
    "category": "Accelerated computing",
    "gpuNum": 4,
    "hideHardwareSpecs": false,
    "memoryGiB": 192,
    "name": "ml.g4dn.12xlarge",
    "vcpuNum": 48
   },
   {
    "_defaultOrder": 34,
    "_isFastLaunch": false,
    "category": "Accelerated computing",
    "gpuNum": 1,
    "hideHardwareSpecs": false,
    "memoryGiB": 256,
    "name": "ml.g4dn.16xlarge",
    "vcpuNum": 64
   },
   {
    "_defaultOrder": 35,
    "_isFastLaunch": false,
    "category": "Accelerated computing",
    "gpuNum": 1,
    "hideHardwareSpecs": false,
    "memoryGiB": 61,
    "name": "ml.p3.2xlarge",
    "vcpuNum": 8
   },
   {
    "_defaultOrder": 36,
    "_isFastLaunch": false,
    "category": "Accelerated computing",
    "gpuNum": 4,
    "hideHardwareSpecs": false,
    "memoryGiB": 244,
    "name": "ml.p3.8xlarge",
    "vcpuNum": 32
   },
   {
    "_defaultOrder": 37,
    "_isFastLaunch": false,
    "category": "Accelerated computing",
    "gpuNum": 8,
    "hideHardwareSpecs": false,
    "memoryGiB": 488,
    "name": "ml.p3.16xlarge",
    "vcpuNum": 64
   },
   {
    "_defaultOrder": 38,
    "_isFastLaunch": false,
    "category": "Accelerated computing",
    "gpuNum": 8,
    "hideHardwareSpecs": false,
    "memoryGiB": 768,
    "name": "ml.p3dn.24xlarge",
    "vcpuNum": 96
   },
   {
    "_defaultOrder": 39,
    "_isFastLaunch": false,
    "category": "Memory Optimized",
    "gpuNum": 0,
    "hideHardwareSpecs": false,
    "memoryGiB": 16,
    "name": "ml.r5.large",
    "vcpuNum": 2
   },
   {
    "_defaultOrder": 40,
    "_isFastLaunch": false,
    "category": "Memory Optimized",
    "gpuNum": 0,
    "hideHardwareSpecs": false,
    "memoryGiB": 32,
    "name": "ml.r5.xlarge",
    "vcpuNum": 4
   },
   {
    "_defaultOrder": 41,
    "_isFastLaunch": false,
    "category": "Memory Optimized",
    "gpuNum": 0,
    "hideHardwareSpecs": false,
    "memoryGiB": 64,
    "name": "ml.r5.2xlarge",
    "vcpuNum": 8
   },
   {
    "_defaultOrder": 42,
    "_isFastLaunch": false,
    "category": "Memory Optimized",
    "gpuNum": 0,
    "hideHardwareSpecs": false,
    "memoryGiB": 128,
    "name": "ml.r5.4xlarge",
    "vcpuNum": 16
   },
   {
    "_defaultOrder": 43,
    "_isFastLaunch": false,
    "category": "Memory Optimized",
    "gpuNum": 0,
    "hideHardwareSpecs": false,
    "memoryGiB": 256,
    "name": "ml.r5.8xlarge",
    "vcpuNum": 32
   },
   {
    "_defaultOrder": 44,
    "_isFastLaunch": false,
    "category": "Memory Optimized",
    "gpuNum": 0,
    "hideHardwareSpecs": false,
    "memoryGiB": 384,
    "name": "ml.r5.12xlarge",
    "vcpuNum": 48
   },
   {
    "_defaultOrder": 45,
    "_isFastLaunch": false,
    "category": "Memory Optimized",
    "gpuNum": 0,
    "hideHardwareSpecs": false,
    "memoryGiB": 512,
    "name": "ml.r5.16xlarge",
    "vcpuNum": 64
   },
   {
    "_defaultOrder": 46,
    "_isFastLaunch": false,
    "category": "Memory Optimized",
    "gpuNum": 0,
    "hideHardwareSpecs": false,
    "memoryGiB": 768,
    "name": "ml.r5.24xlarge",
    "vcpuNum": 96
   },
   {
    "_defaultOrder": 47,
    "_isFastLaunch": false,
    "category": "Accelerated computing",
    "gpuNum": 1,
    "hideHardwareSpecs": false,
    "memoryGiB": 16,
    "name": "ml.g5.xlarge",
    "vcpuNum": 4
   },
   {
    "_defaultOrder": 48,
    "_isFastLaunch": false,
    "category": "Accelerated computing",
    "gpuNum": 1,
    "hideHardwareSpecs": false,
    "memoryGiB": 32,
    "name": "ml.g5.2xlarge",
    "vcpuNum": 8
   },
   {
    "_defaultOrder": 49,
    "_isFastLaunch": false,
    "category": "Accelerated computing",
    "gpuNum": 1,
    "hideHardwareSpecs": false,
    "memoryGiB": 64,
    "name": "ml.g5.4xlarge",
    "vcpuNum": 16
   },
   {
    "_defaultOrder": 50,
    "_isFastLaunch": false,
    "category": "Accelerated computing",
    "gpuNum": 1,
    "hideHardwareSpecs": false,
    "memoryGiB": 128,
    "name": "ml.g5.8xlarge",
    "vcpuNum": 32
   },
   {
    "_defaultOrder": 51,
    "_isFastLaunch": false,
    "category": "Accelerated computing",
    "gpuNum": 1,
    "hideHardwareSpecs": false,
    "memoryGiB": 256,
    "name": "ml.g5.16xlarge",
    "vcpuNum": 64
   },
   {
    "_defaultOrder": 52,
    "_isFastLaunch": false,
    "category": "Accelerated computing",
    "gpuNum": 4,
    "hideHardwareSpecs": false,
    "memoryGiB": 192,
    "name": "ml.g5.12xlarge",
    "vcpuNum": 48
   },
   {
    "_defaultOrder": 53,
    "_isFastLaunch": false,
    "category": "Accelerated computing",
    "gpuNum": 4,
    "hideHardwareSpecs": false,
    "memoryGiB": 384,
    "name": "ml.g5.24xlarge",
    "vcpuNum": 96
   },
   {
    "_defaultOrder": 54,
    "_isFastLaunch": false,
    "category": "Accelerated computing",
    "gpuNum": 8,
    "hideHardwareSpecs": false,
    "memoryGiB": 768,
    "name": "ml.g5.48xlarge",
    "vcpuNum": 192
   },
   {
    "_defaultOrder": 55,
    "_isFastLaunch": false,
    "category": "Accelerated computing",
    "gpuNum": 8,
    "hideHardwareSpecs": false,
    "memoryGiB": 1152,
    "name": "ml.p4d.24xlarge",
    "vcpuNum": 96
   },
   {
    "_defaultOrder": 56,
    "_isFastLaunch": false,
    "category": "Accelerated computing",
    "gpuNum": 8,
    "hideHardwareSpecs": false,
    "memoryGiB": 1152,
    "name": "ml.p4de.24xlarge",
    "vcpuNum": 96
   }
  ],
  "instance_type": "ml.t3.medium",
  "kernelspec": {
   "display_name": "Python 3 (Base Python 2.0)",
   "language": "python",
   "name": "python3__SAGEMAKER_INTERNAL__arn:aws:sagemaker:us-east-1:081325390199:image/sagemaker-base-python-38"
  },
  "language_info": {
   "codemirror_mode": {
    "name": "ipython",
    "version": 3
   },
   "file_extension": ".py",
   "mimetype": "text/x-python",
   "name": "python",
   "nbconvert_exporter": "python",
   "pygments_lexer": "ipython3",
   "version": "3.8.12"
  },
  "pycharm": {
   "stem_cell": {
    "cell_type": "raw",
    "metadata": {
     "collapsed": false
    },
    "source": []
   }
  }
 },
 "nbformat": 4,
 "nbformat_minor": 4
}
